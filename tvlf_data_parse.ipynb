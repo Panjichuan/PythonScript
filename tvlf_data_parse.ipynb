{
 "cells": [
  {
   "cell_type": "code",
   "execution_count": 1,
   "metadata": {
    "collapsed": false
   },
   "outputs": [],
   "source": [
    "import os\n",
    "def findfile(root):\n",
    "    '''\n",
    "    从指定的路径获取文件夹内各个文件的路径和文件名列表\n",
    "    '''\n",
    "    filename=os.listdir(root)\n",
    "    path=[os.path.join(root,item) for item in filename]\n",
    "    if str.split(filename[0],'.')[1]!='mlt':\n",
    "        print('该目录下不存在探水雷达数据文件，请重新选择其所在路径！')\n",
    "    print('文件路径是：%s'%path)\n",
    "    name=[str.split(str.split(item,'\\\\')[-1],'.')[0] for item in path]\n",
    "    return path,name"
   ]
  },
  {
   "cell_type": "code",
   "execution_count": 2,
   "metadata": {
    "collapsed": true
   },
   "outputs": [],
   "source": [
    "import pandas as pd\n",
    "def read_tvlf_file(path):\n",
    "    '''\n",
    "    读取数据文件，返回数据文件的DataFrame，点号的列表和点号的计数\n",
    "    '''\n",
    "    lines=[[line] for line in open(path)]\n",
    "    lines=lines[4:]\n",
    "    data={}\n",
    "    PointName=[]\n",
    "    n=len(lines)\n",
    "    for i in range(n):\n",
    "        point=int(lines[i][0].split('   ')[0][1:])\n",
    "        PointName.append(point)\n",
    "        if point not in data:\n",
    "            data[point]=[float(item) for item in lines[i][0].split('   ')[1:63]]\n",
    "    PointName.sort()\n",
    "    return pd.DataFrame(data),PointName,n"
   ]
  },
  {
   "cell_type": "code",
   "execution_count": 3,
   "metadata": {
    "collapsed": true
   },
   "outputs": [],
   "source": [
    "import matplotlib.pyplot as plt\n",
    "def multi_plot(data):\n",
    "    '''\n",
    "    多测道曲线图\n",
    "    '''    \n",
    "    plt.rcParams['font.sans-serif'] = ['SimHei']\n",
    "    plt.style.use('ggplot')\n",
    "    for i in range(0,len(data),2):\n",
    "        data.ix[i].plot()\n",
    "    plt.title('多测道曲线图')\n",
    "    plt.xlabel('测点号')\n",
    "    plt.ylabel('电压值')   \n",
    "    plt.show()"
   ]
  },
  {
   "cell_type": "code",
   "execution_count": 4,
   "metadata": {
    "collapsed": true
   },
   "outputs": [],
   "source": [
    "def smooth(data,PointName):\n",
    "    '''\n",
    "    强干扰点滤波\n",
    "    '''\n",
    "    for i in range(len(PointName)):\n",
    "        for j in range(2,len(data)-1):\n",
    "            if data[PointName[i]][j]<data[PointName[i]][j+1]:\n",
    "                data[PointName[i]][j]=(data[PointName[i]][j-2]\n",
    "                                       +data[PointName[i]][j-1]\n",
    "                                       +data[PointName[i]][j]\n",
    "                                       +data[PointName[i]][j+1])/4\n",
    "            else: continue\n",
    "    return data"
   ]
  },
  {
   "cell_type": "code",
   "execution_count": 5,
   "metadata": {
    "collapsed": false
   },
   "outputs": [],
   "source": [
    "import matplotlib.pyplot as plt\n",
    "def draw_plot(data,PointName,figname,linename):\n",
    "    '''\n",
    "    绘图保存\n",
    "    '''\n",
    "    plt.rcParams['font.sans-serif'] = ['SimHei']\n",
    "    plt.style.use('ggplot')\n",
    "    fig,ax=plt.subplots(5,4)\n",
    "    fig.set_size_inches(16,20)\n",
    "    \n",
    "    k=0\n",
    "    for i in range(5):\n",
    "        for j in range(4):\n",
    "            if k<len(PointName):\n",
    "                ax[i,j].plot(data.index,data[PointName[k]])\n",
    "                ax[i,j].set_yscale('log')\n",
    "                ax[i,j].set_title(linename+' %d号点电位衰减曲线' % PointName[k])\n",
    "                ax[i,j].set_xlabel('时间/ms')\n",
    "                ax[i,j].set_ylabel('电压值/V')\n",
    "                k+=1\n",
    "            else: break\n",
    "    plt.subplots_adjust(wspace=0.5,hspace=0.5)\n",
    "    fig.savefig(figname+'.png')"
   ]
  },
  {
   "cell_type": "code",
   "execution_count": 6,
   "metadata": {
    "collapsed": false
   },
   "outputs": [
    {
     "name": "stdout",
     "output_type": "stream",
     "text": [
      "请输入探水雷达数据文件存放路径：F:\\东庞资料\\data\n",
      "文件路径是：['F:\\\\东庞资料\\\\data\\\\L520.mlt', 'F:\\\\东庞资料\\\\data\\\\L540.mlt', 'F:\\\\东庞资料\\\\data\\\\L560.mlt', 'F:\\\\东庞资料\\\\data\\\\L580.mlt', 'F:\\\\东庞资料\\\\data\\\\L600.mlt', 'F:\\\\东庞资料\\\\data\\\\L620.mlt', 'F:\\\\东庞资料\\\\data\\\\L640.mlt', 'F:\\\\东庞资料\\\\data\\\\L660.mlt', 'F:\\\\东庞资料\\\\data\\\\L680.mlt', 'F:\\\\东庞资料\\\\data\\\\L700.mlt', 'F:\\\\东庞资料\\\\data\\\\L720.mlt', 'F:\\\\东庞资料\\\\data\\\\L740.mlt', 'F:\\\\东庞资料\\\\data\\\\L760.mlt', 'F:\\\\东庞资料\\\\data\\\\L780.mlt', 'F:\\\\东庞资料\\\\data\\\\L800.mlt', 'F:\\\\东庞资料\\\\data\\\\L820.mlt', 'F:\\\\东庞资料\\\\data\\\\L840.mlt', 'F:\\\\东庞资料\\\\data\\\\L860.mlt', 'F:\\\\东庞资料\\\\data\\\\L880.mlt', 'F:\\\\东庞资料\\\\data\\\\L900.mlt', 'F:\\\\东庞资料\\\\data\\\\L920.mlt', 'F:\\\\东庞资料\\\\data\\\\L940.mlt', 'F:\\\\东庞资料\\\\data\\\\L960.mlt', 'F:\\\\东庞资料\\\\data\\\\L980.mlt']\n"
     ]
    }
   ],
   "source": [
    "path,name=findfile(input('请输入探水雷达数据文件存放路径：'))"
   ]
  },
  {
   "cell_type": "code",
   "execution_count": 7,
   "metadata": {
    "collapsed": false
   },
   "outputs": [
    {
     "name": "stdout",
     "output_type": "stream",
     "text": [
      "第0条测线解析完成\n",
      "第1条测线解析完成\n",
      "第2条测线解析完成\n",
      "第3条测线解析完成\n",
      "第4条测线解析完成\n",
      "第5条测线解析完成\n",
      "第6条测线解析完成\n",
      "第7条测线解析完成\n",
      "第8条测线解析完成\n",
      "第9条测线解析完成\n"
     ]
    },
    {
     "name": "stderr",
     "output_type": "stream",
     "text": [
      "D:\\anaconda\\lib\\site-packages\\matplotlib\\pyplot.py:524: RuntimeWarning: More than 20 figures have been opened. Figures created through the pyplot interface (`matplotlib.pyplot.figure`) are retained until explicitly closed and may consume too much memory. (To control this warning, see the rcParam `figure.max_open_warning`).\n",
      "  max_open_warning, RuntimeWarning)\n"
     ]
    },
    {
     "name": "stdout",
     "output_type": "stream",
     "text": [
      "第10条测线解析完成\n",
      "第11条测线解析完成\n",
      "第12条测线解析完成\n",
      "第13条测线解析完成\n",
      "第14条测线解析完成\n",
      "第15条测线解析完成\n",
      "第16条测线解析完成\n",
      "第17条测线解析完成\n",
      "第18条测线解析完成\n",
      "第19条测线解析完成\n",
      "第20条测线解析完成\n",
      "第21条测线解析完成\n",
      "第22条测线解析完成\n",
      "第23条测线解析完成\n"
     ]
    }
   ],
   "source": [
    "import math\n",
    "for i in range(len(path)):\n",
    "    data,PointName,n=read_tvlf_file(path[i])\n",
    "    data=smooth(data,PointName)\n",
    "    for j in range(math.ceil(len(PointName)/20)):\n",
    "        draw_plot(data,PointName[20*j:min(20*(j+1),len(PointName))],name[i]+'_'+str(j),name[i])\n",
    "    print('第%d条测线解析完成' % i)"
   ]
  }
 ],
 "metadata": {
  "kernelspec": {
   "display_name": "Python 3",
   "language": "python",
   "name": "python3"
  },
  "language_info": {
   "codemirror_mode": {
    "name": "ipython",
    "version": 3
   },
   "file_extension": ".py",
   "mimetype": "text/x-python",
   "name": "python",
   "nbconvert_exporter": "python",
   "pygments_lexer": "ipython3",
   "version": "3.6.0"
  }
 },
 "nbformat": 4,
 "nbformat_minor": 2
}
