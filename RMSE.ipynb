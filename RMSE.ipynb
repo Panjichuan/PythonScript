{
 "cells": [
  {
   "cell_type": "code",
   "execution_count": 1,
   "metadata": {
    "collapsed": true
   },
   "outputs": [],
   "source": [
    "from pandas import Series,DataFrame\n",
    "from math import sqrt"
   ]
  },
  {
   "cell_type": "code",
   "execution_count": 2,
   "metadata": {
    "collapsed": false,
    "scrolled": false
   },
   "outputs": [],
   "source": [
    "path=r'F:\\东庞资料\\检查点数据.txt'\n",
    "lines=[[line] for line in open(path)]\n",
    "linename=[]\n",
    "pointname=[]\n",
    "line_index=[]\n",
    "point_index=[]\n",
    "k=0\n",
    "j=0\n",
    "for item in lines:\n",
    "    if item[0][0][0]=='L':\n",
    "        line_index.append(k)\n",
    "    elif item[0][0][0]=='#':\n",
    "        point_index.append(j)\n",
    "        pointname.append(lines[line_index[-1]][0][:-1]+'_'+item[0][1:4])\n",
    "    k+=1\n",
    "    j+=1\n",
    "data=[[float(item) for item in lines[i][0].split('   ')[1:-1]] for i in point_index]"
   ]
  },
  {
   "cell_type": "code",
   "execution_count": 3,
   "metadata": {
    "collapsed": false
   },
   "outputs": [],
   "source": [
    "data_dict={}\n",
    "for i in range(len(data)):\n",
    "    data_dict[pointname[i]]=data[i]"
   ]
  },
  {
   "cell_type": "code",
   "execution_count": 4,
   "metadata": {
    "collapsed": false
   },
   "outputs": [],
   "source": [
    "RMSE={}\n",
    "for i in range(1,len(pointname),2):\n",
    "    RMSE[pointname[i-1]]=sqrt(sum((Series(data_dict[pointname[i]])-Series(data_dict[pointname[i-1]]))**2)/len(pointname))*(10e+3)"
   ]
  },
  {
   "cell_type": "code",
   "execution_count": 5,
   "metadata": {
    "collapsed": false
   },
   "outputs": [
    {
     "data": {
      "text/plain": [
       "{'L1060_520': 0.05409814447932095,\n",
       " 'L1100_440': 0.060999001660824975,\n",
       " 'L1120_320': 0.08057312388143636,\n",
       " 'L1120_500': 0.0570846381493046,\n",
       " 'L1140_420': 0.03958944915561076,\n",
       " 'L1160_320': 0.06448904111723375,\n",
       " 'L1160_480': 0.09762615738353123,\n",
       " 'L1160_560': 0.0314648537697641,\n",
       " 'L1180_440': 0.03343307580128061,\n",
       " 'L1200_540': 0.054335550045487443,\n",
       " 'L1220_340': 0.11670864069980717,\n",
       " 'L1220_520': 0.06492854595602311,\n",
       " 'L1220_580': 0.04131548889647405,\n",
       " 'L1260_440': 0.027885196029428395,\n",
       " 'L1260_700': 0.1242018209067094,\n",
       " 'L1280_420': 0.10095267633064196,\n",
       " 'L1280_660': 0.12771142173002364,\n",
       " 'L1300_400': 0.17399787952354448,\n",
       " 'L1300_480': 0.12004373312469502,\n",
       " 'L1360_500': 0.0743670949411515,\n",
       " 'L1360_640': 0.050076164917601564,\n",
       " 'L1400_780': 0.18282281230648958,\n",
       " 'L1420_600': 0.04900896341487113,\n",
       " 'L1440_620': 0.12617443946875284,\n",
       " 'L1460_580': 0.03250105489422289,\n",
       " 'L1480_420': 0.0523691979439582,\n",
       " 'L1500_640': 0.0449317892638259,\n",
       " 'L1520_740': 0.05755087779912389,\n",
       " 'L1540_320': 0.10311998449966622,\n",
       " 'L1540_420': 0.04021566177492706,\n",
       " 'L1540_580': 0.012217639463383176,\n",
       " 'L1540_620': 0.04088137319262229,\n",
       " 'L1560_780': 0.11076461190815062,\n",
       " 'L1580_340': 0.10786297211034954,\n",
       " 'L1580_440': 0.07642325383103754,\n",
       " 'L1580_560': 0.06673480650673717,\n",
       " 'L1580_600': 0.07490651367085055,\n",
       " 'L1580_620': 0.11312325665807448,\n",
       " 'L1600_540': 0.10524882811043533,\n",
       " 'L1620_580': 0.17151784441257217,\n",
       " 'L1620_800': 0.13975414958891136,\n",
       " 'L1660_760': 0.058278846649386436,\n",
       " 'L1680_460': 0.07614085851935141,\n",
       " 'L1680_600': 0.06814703812008596,\n",
       " 'L1680_800': 0.11661132569359058,\n",
       " 'L1680_920': 0.485985645437719,\n",
       " 'L1700_540': 0.055257218975390994,\n",
       " 'L1700_740': 0.11808310479388089,\n",
       " 'L1720_780': 0.14681405039071072,\n",
       " 'L1740_640': 0.09862482429079633,\n",
       " 'L1740_760': 0.06382388696019853,\n",
       " 'L280_220': 0.12196479647677534,\n",
       " 'L300_420': 0.3163560662553569,\n",
       " 'L320_400': 0.9733551301991471,\n",
       " 'L380_520': 0.074295697113283,\n",
       " 'L400_360': 0.09590831939369117,\n",
       " 'L400_500': nan,\n",
       " 'L460_180': 0.0626304937821532,\n",
       " 'L540_620': 0.3546741126902106,\n",
       " 'L580_420': 0.10141470951937935,\n",
       " 'L680_460': 0.042986411872406476,\n",
       " 'L680_540': 0.06216747600889821,\n",
       " 'L700_420': 0.08601356657384472,\n",
       " 'L700_680': 0.5858803433094015,\n",
       " 'L740_420': 0.11748351930184077,\n",
       " 'L760_740': 0.3265020501369563,\n",
       " 'L800_360': 0.16759383389491103,\n",
       " 'L800_660': 0.23548466338466031,\n",
       " 'L880_180': 1.2509954089134432,\n",
       " 'L940_560': 0.08929403975284153,\n",
       " 'L960_280': 0.07596928306087626,\n",
       " 'L960_660': 0.08552111906513966,\n",
       " 'L980_320': 0.03805109841804639}"
      ]
     },
     "execution_count": 5,
     "metadata": {},
     "output_type": "execute_result"
    }
   ],
   "source": [
    "RMSE"
   ]
  },
  {
   "cell_type": "code",
   "execution_count": 6,
   "metadata": {
    "collapsed": false
   },
   "outputs": [],
   "source": [
    "df=DataFrame(RMSE,index=[0])"
   ]
  },
  {
   "cell_type": "code",
   "execution_count": 7,
   "metadata": {
    "collapsed": false
   },
   "outputs": [],
   "source": [
    "df.to_csv(r'F:\\误差数据.csv')"
   ]
  },
  {
   "cell_type": "code",
   "execution_count": null,
   "metadata": {
    "collapsed": true
   },
   "outputs": [],
   "source": []
  }
 ],
 "metadata": {
  "kernelspec": {
   "display_name": "Python 3",
   "language": "python",
   "name": "python3"
  },
  "language_info": {
   "codemirror_mode": {
    "name": "ipython",
    "version": 3
   },
   "file_extension": ".py",
   "mimetype": "text/x-python",
   "name": "python",
   "nbconvert_exporter": "python",
   "pygments_lexer": "ipython3",
   "version": "3.6.0"
  }
 },
 "nbformat": 4,
 "nbformat_minor": 2
}
