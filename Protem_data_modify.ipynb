{
 "cells": [
  {
   "cell_type": "code",
   "execution_count": 30,
   "metadata": {
    "collapsed": false
   },
   "outputs": [
    {
     "name": "stdout",
     "output_type": "stream",
     "text": [
      "请输入protem47数据文件存放的文件夹路径：F:\\47_data\n",
      "文件路径是：F:\\47_data\\82.Gx7\n"
     ]
    }
   ],
   "source": [
    "import os\n",
    "import numpy as np\n",
    "root=input('请输入protem47数据文件存放的文件夹路径：')\n",
    "filename=os.listdir(root)\n",
    "path=os.path.join(root,filename[0])\n",
    "if str.split(filename[0],'.')[1]!='Gx7':\n",
    "    print('该目录下不存在protem47数据文件，请重新选择其所在路径！')\n",
    "print('文件路径是：%s'%path)\n",
    "name=str.split(filename[0],'.')[0]\n",
    "new_name=str(name)+'_modified.'+str.split(filename[0],'.')[1]\n",
    "new_path=os.path.join(root,new_name)"
   ]
  },
  {
   "cell_type": "code",
   "execution_count": 31,
   "metadata": {
    "collapsed": true
   },
   "outputs": [],
   "source": [
    "file=open(path,'r')\n",
    "lines=file.readlines()\n",
    "file.close()"
   ]
  },
  {
   "cell_type": "code",
   "execution_count": 32,
   "metadata": {
    "collapsed": false
   },
   "outputs": [],
   "source": [
    "if ' ' in lines[2][:4]:\n",
    "    str.replace(lines[2][:4],' ','0') \n",
    "    print('文件中日期格式存在问题，已修改')"
   ]
  },
  {
   "cell_type": "code",
   "execution_count": 33,
   "metadata": {
    "collapsed": false
   },
   "outputs": [],
   "source": [
    "#获取数据文件中的线号、点号、点号步长、起始数据记录号\n",
    "line_No=int(lines[2][5:8])\n",
    "if len(str(line_No))==1:\n",
    "    str_line_No='00'+str(line_No)\n",
    "elif len(str(line_No))==2:\n",
    "    str_line_No='0'+str(line_No)\n",
    "else:\n",
    "    str_line_No='00'+str(line_No)[0]\n",
    "#获取起始点号\n",
    "start_Point_No=int(lines[6][10:14])\n",
    "if len(str(start_Point_No))==1:\n",
    "    str_start_Point_No='000'+str(start_Point_No)\n",
    "elif len(str(start_Point_No))==2:\n",
    "    str_start_Point_No='00'+str(start_Point_No)\n",
    "elif len(str(start_Point_No))==3:\n",
    "    str_start_Point_No='0'+str(start_Point_No)\n",
    "else:\n",
    "    str_start_Point_No=str(start_Point_No)\n",
    "step_No=int(lines[2][10:14])\n",
    "start_record_No=int(lines[6][str.find(lines[6],'#')+1:str.find(lines[6],'#')+6])\n",
    "turns=64 #匝数"
   ]
  },
  {
   "cell_type": "code",
   "execution_count": 34,
   "metadata": {
    "collapsed": false,
    "scrolled": true
   },
   "outputs": [],
   "source": [
    "data_revised=[]\n",
    "i=0\n",
    "for elt1 in lines:\n",
    "    #添加‘Space=W’\n",
    "    if str.find(elt1,'TEM58')>0: \n",
    "        data_revised.append(elt1[:28]+'  Space=W   '+elt1[28:])\n",
    "    #替换数据点信息\n",
    "    elif str.find(elt1,'RXA')>0:\n",
    "        data_revised.append(str.replace(str.replace(elt1,elt1[5:10],str_line_No+'N '),\n",
    "                                        elt1[10:16],str_start_Point_No+'EH'))\n",
    "    #添加一个Comment信息 \n",
    "    elif str.find(elt1,'Comment')>0:\n",
    "        data_revised.append(elt1[:9]+' LOOP'+'1'+'(%s,%s)'%(str(start_Point_No),str(line_No)[0])+\n",
    "                            '  '+str(turns)+elt1[str.find(elt1,':')+4:])\n",
    "    #替换数据点钟的点线号信息\n",
    "    elif str.find(elt1,'OPR REF')>0:\n",
    "        if (int(elt1[str.find(elt1,'#')+1:str.find(elt1,'#')+6])-start_record_No)%2==0: #余数运算\n",
    "            #点号增加\n",
    "            Point_No=start_Point_No+step_No*i\n",
    "            if len(str(Point_No))==1:\n",
    "                str_Point_No='000'+str(Point_No)\n",
    "                i=i+1\n",
    "            elif len(str(Point_No))==2:\n",
    "                str_Point_No='00'+str(Point_No)\n",
    "                i=i+1\n",
    "            elif len(str(Point_No))==3:\n",
    "                str_Point_No='0'+str(Point_No)\n",
    "                i=i+1\n",
    "            else:\n",
    "                str_Point_No=str(Point_No)\n",
    "                i=i+1\n",
    "        data_revised.append(str.replace(str.replace(elt1,elt1[5:10],str_line_No+'N '),elt1[10:16],str_Point_No+'EZ'))\n",
    "    else:\n",
    "        data_revised.append(elt1)"
   ]
  },
  {
   "cell_type": "code",
   "execution_count": 35,
   "metadata": {
    "collapsed": true
   },
   "outputs": [],
   "source": [
    "elt_insert=data_revised[2:6]\n",
    "data_inserted=[]\n",
    "lables=np.arange(9,len(data_revised),4)\n",
    "for elt2 in data_revised:\n",
    "    if data_revised.index(elt2) in lables:\n",
    "        data_inserted.append(elt2)\n",
    "        data_inserted.extend(elt_insert)\n",
    "        continue\n",
    "    else:\n",
    "        data_inserted.append(elt2)\n",
    "del data_inserted[-10:]"
   ]
  },
  {
   "cell_type": "code",
   "execution_count": 36,
   "metadata": {
    "collapsed": true
   },
   "outputs": [],
   "source": [
    "data_final=[]\n",
    "Point_No=start_Point_No\n",
    "i=1\n",
    "for elt3 in data_inserted:\n",
    "    if 'LOOP' in elt3:\n",
    "        data_final.append(elt3[:14]+str(i)+'(%s,%s)'%(str(Point_No),\n",
    "                          str(line_No)[0])+elt3[21:])\n",
    "        Point_No=start_Point_No+step_No*i\n",
    "        i=i+1        \n",
    "    else:\n",
    "        data_final.append(elt3)    \n",
    "#del data_final[-2:]\n",
    "data_final.append('XXXXXX\\n')"
   ]
  },
  {
   "cell_type": "code",
   "execution_count": 37,
   "metadata": {
    "collapsed": false
   },
   "outputs": [
    {
     "name": "stdout",
     "output_type": "stream",
     "text": [
      "文件转化已完成，新的文件名为：82_modified.Gx7\n"
     ]
    }
   ],
   "source": [
    "new_f=open(new_path,'w')\n",
    "for line in data_final:\n",
    "    new_f.write(line)\n",
    "new_f.close()\n",
    "print('文件转化已完成，新的文件名为：%s'%new_name)"
   ]
  },
  {
   "cell_type": "code",
   "execution_count": null,
   "metadata": {
    "collapsed": true
   },
   "outputs": [],
   "source": []
  }
 ],
 "metadata": {
  "kernelspec": {
   "display_name": "Python 3",
   "language": "python",
   "name": "python3"
  },
  "language_info": {
   "codemirror_mode": {
    "name": "ipython",
    "version": 3
   },
   "file_extension": ".py",
   "mimetype": "text/x-python",
   "name": "python",
   "nbconvert_exporter": "python",
   "pygments_lexer": "ipython3",
   "version": "3.6.0"
  }
 },
 "nbformat": 4,
 "nbformat_minor": 2
}
